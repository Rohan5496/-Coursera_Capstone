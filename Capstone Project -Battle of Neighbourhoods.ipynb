{
 "cells": [
  {
   "cell_type": "markdown",
   "metadata": {},
   "source": [
    "# Capstone Project : Battle of Neighbourhoods"
   ]
  },
  {
   "cell_type": "markdown",
   "metadata": {},
   "source": [
    "## Introduction "
   ]
  },
  {
   "cell_type": "markdown",
   "metadata": {},
   "source": [
    "New York is the largest city in the United States with a long history of immigration. It has an extremely diverse culture with people from regions and races making it their home. With it's diverse culture, comes diverse cuisine.The City of New York is famous for its excellent cuisine. It's food culture includes an array of international cuisines influenced by the city's immigrant history.\n",
    "\n",
    "Apart from all the business in the world , this city is known for it's diverse range of food.The cuisine of New York City comprises many cuisines belonging to various ethnic groups that have entered the United States through the city. Almost all ethnic cuisines are well represented in New York City, both within and outside the various ethnic neighborhoods.\n",
    "\n",
    "Diverse culture of New York is what makes it's food so unique and popular because ultimately the more the better. People have so many options to chose from."
   ]
  },
  {
   "cell_type": "markdown",
   "metadata": {},
   "source": [
    "## Business Problem"
   ]
  },
  {
   "cell_type": "markdown",
   "metadata": {},
   "source": [
    "An Organization has approached me for with the objective to locate and recommend to the management which major parts and neighbourhoods of New York city will be best choice to find an Indian restaurant. The Management also expects to understand the rationale of the recommendations made."
   ]
  },
  {
   "cell_type": "markdown",
   "metadata": {},
   "source": [
    "## Datasets and role in the Project"
   ]
  },
  {
   "cell_type": "markdown",
   "metadata": {},
   "source": [
    "It is defined in the business problem that the objective is to find Indian Restaurants in the New York city , for this following data is required :\n",
    "\n",
    "For this project we need the following data :\n",
    "\n",
    "### New York City data that contains list Boroughs, Neighborhoods along with their latitude and longitude.\n",
    "\n",
    "- **Data source :** https://cocl.us/new_york_dataset\n",
    "\n",
    "- **Description :** This data set contains the required information. And we will use this data set to explore various neighborhoods of new york city.\n",
    "\n",
    "### Indian resturants in each neighborhood of new york city.\n",
    "\n",
    "- **Data source :** Fousquare API\n",
    "\n",
    "- **Description :** By using this api we will get all the venues in each neighborhood. We can filter these venues to get only indian resturants.\n",
    "\n",
    "###  GeoSpace data\n",
    "\n",
    "- **Data source :** https://data.cityofnewyork.us/City-Government/Borough-Boundaries/tqmj-j8zm\n",
    "\n",
    "- **Description :** By using this geo space data we will get the New york Borough boundaries that will help us visualize choropleth map.\n"
   ]
  },
  {
   "cell_type": "markdown",
   "metadata": {},
   "source": [
    "## Target Audience"
   ]
  },
  {
   "cell_type": "markdown",
   "metadata": {},
   "source": [
    "To Recommend the correct location of the Indian Restaurants to the organization.\n",
    "\n",
    "This would interest anyone who wants to look up great Indian Restaurants in the New York City i.e the residents of the city or anyone out there who crave for Indian Food. "
   ]
  },
  {
   "cell_type": "markdown",
   "metadata": {},
   "source": [
    "## Approach for Solution"
   ]
  },
  {
   "cell_type": "markdown",
   "metadata": {},
   "source": [
    "- Accumulate the new york city data from https://cocl.us/new_york_dataset\n",
    "- Using FourSquare API we will find all venues for each neighborhood.\n",
    "- Filter out all venues that are Indian Resturants.\n",
    "- Find rating , tips and like count for each Indian Resturants using FourSquare API.\n",
    "- Using rating for each resturant , we will sort that data.\n",
    "- Visualize the Ranking of neighborhoods using folium library(python)"
   ]
  }
 ],
 "metadata": {
  "kernelspec": {
   "display_name": "Python 3",
   "language": "python",
   "name": "python3"
  },
  "language_info": {
   "codemirror_mode": {
    "name": "ipython",
    "version": 3
   },
   "file_extension": ".py",
   "mimetype": "text/x-python",
   "name": "python",
   "nbconvert_exporter": "python",
   "pygments_lexer": "ipython3",
   "version": "3.7.3"
  }
 },
 "nbformat": 4,
 "nbformat_minor": 2
}
